{
 "cells": [
  {
   "cell_type": "code",
   "execution_count": null,
   "id": "039bdf9f",
   "metadata": {},
   "outputs": [],
   "source": [
    "import cv2\n",
    "import numpy as np\n",
    "from matplotlib import pyplot as plt"
   ]
  },
  {
   "cell_type": "code",
   "execution_count": null,
   "id": "12ba6fda",
   "metadata": {},
   "outputs": [],
   "source": [
    "# reading image\n",
    "img = cv2.imread('shapes.png')"
   ]
  },
  {
   "cell_type": "code",
   "execution_count": null,
   "id": "37c9ce51",
   "metadata": {},
   "outputs": [],
   "source": [
    "# converting image into grayscale image\n",
    "gray = cv2.cvtColor(img, cv2.COLOR_BGR2GRAY)"
   ]
  },
  {
   "cell_type": "code",
   "execution_count": null,
   "id": "de6da637",
   "metadata": {},
   "outputs": [],
   "source": [
    "# setting threshold of gray image\n",
    "_, threshold = cv2.threshold(gray, 127, 255, cv2.THRESH_BINARY)"
   ]
  },
  {
   "cell_type": "code",
   "execution_count": null,
   "id": "fdf6aa7b",
   "metadata": {},
   "outputs": [],
   "source": [
    "# using a findContours() function\n",
    "contours, _ = cv2.findContours(\n",
    "    threshold, cv2.RETR_TREE, cv2.CHAIN_APPROX_SIMPLE)"
   ]
  },
  {
   "cell_type": "code",
   "execution_count": null,
   "id": "f8d7f664",
   "metadata": {},
   "outputs": [],
   "source": [
    "i = 0\n",
    "  \n",
    "# list for storing names of shapes\n",
    "for contour in contours:\n",
    "  \n",
    "    # here we are ignoring first counter because \n",
    "    # findcontour function detects whole image as shape\n",
    "    if i == 0:\n",
    "        i = 1\n",
    "        continue"
   ]
  },
  {
   "cell_type": "code",
   "execution_count": null,
   "id": "16016c0c",
   "metadata": {},
   "outputs": [],
   "source": [
    "# cv2.approxPloyDP() function to approximate the shape\n",
    "approx = cv2.approxPolyDP(\n",
    "    contour, 0.01 * cv2.arcLength(contour, True), True)"
   ]
  },
  {
   "cell_type": "code",
   "execution_count": null,
   "id": "bbcd1d19",
   "metadata": {},
   "outputs": [],
   "source": [
    "# using drawContours() function\n",
    "cv2.drawContours(img, [contour], 0, (0, 0, 255), 5)"
   ]
  },
  {
   "cell_type": "code",
   "execution_count": null,
   "id": "bb81d7cd",
   "metadata": {},
   "outputs": [],
   "source": [
    "# finding center point of shape\n",
    "M = cv2.moments(contour)\n",
    "if M['m00'] != 0.0:\n",
    "    x = int(M['m10']/M['m00'])\n",
    "    y = int(M['m01']/M['m00'])"
   ]
  },
  {
   "cell_type": "code",
   "execution_count": null,
   "id": "9accf3e5",
   "metadata": {},
   "outputs": [],
   "source": [
    "# putting shape name at center of each shape\n",
    "if len(approx) == 3:\n",
    "    cv2.putText(img, 'Triangle', (x, y),\n",
    "                cv2.FONT_HERSHEY_SIMPLEX, 0.6, (255, 255, 255), 2)\n",
    "  \n",
    "elif len(approx) == 4:\n",
    "    cv2.putText(img, 'Quadrilateral', (x, y),\n",
    "                cv2.FONT_HERSHEY_SIMPLEX, 0.6, (255, 255, 255), 2)\n",
    "\n",
    "elif len(approx) == 5:\n",
    "    cv2.putText(img, 'Pentagon', (x, y),\n",
    "                cv2.FONT_HERSHEY_SIMPLEX, 0.6, (255, 255, 255), 2)\n",
    "\n",
    "elif len(approx) == 6:\n",
    "    cv2.putText(img, 'Hexagon', (x, y),\n",
    "                cv2.FONT_HERSHEY_SIMPLEX, 0.6, (255, 255, 255), 2)\n",
    "  \n",
    "else:\n",
    "    cv2.putText(img, 'circle', (x, y),\n",
    "                cv2.FONT_HERSHEY_SIMPLEX, 0.6, (255, 255, 255), 2)"
   ]
  },
  {
   "cell_type": "code",
   "execution_count": null,
   "id": "be354ed3",
   "metadata": {},
   "outputs": [],
   "source": [
    "# displaying the image after drawing contours\n",
    "cv2.imshow('shapes', img)\n",
    "  \n",
    "cv2.waitKey(0)\n",
    "cv2.destroyAllWindows()"
   ]
  },
  {
   "cell_type": "code",
   "execution_count": null,
   "id": "f0c1d5c4",
   "metadata": {},
   "outputs": [],
   "source": []
  }
 ],
 "metadata": {
  "kernelspec": {
   "display_name": "Python 3 (ipykernel)",
   "language": "python",
   "name": "python3"
  },
  "language_info": {
   "codemirror_mode": {
    "name": "ipython",
    "version": 3
   },
   "file_extension": ".py",
   "mimetype": "text/x-python",
   "name": "python",
   "nbconvert_exporter": "python",
   "pygments_lexer": "ipython3",
   "version": "3.9.9"
  }
 },
 "nbformat": 4,
 "nbformat_minor": 5
}
